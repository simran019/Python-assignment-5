{
 "cells": [
  {
   "cell_type": "code",
   "execution_count": 1,
   "metadata": {},
   "outputs": [
    {
     "name": "stdout",
     "output_type": "stream",
     "text": [
      "Division of 5 by 0 is not possible\n"
     ]
    }
   ],
   "source": [
    "#Write a fxn to comute 5/0 and use try catch for exceptions\n",
    "class DivisionByZeroCustomException(Exception):\n",
    "    pass\n",
    "try:\n",
    "    a=5\n",
    "    b=0\n",
    "    if b==0:\n",
    "        raise DivisionByZeroCustomException\n",
    "    else:\n",
    "        print(a/b)\n",
    "except DivisionByZeroCustomException:\n",
    "    print(\"Division of 5 by 0 is not possible\")\n",
    "    "
   ]
  },
  {
   "cell_type": "code",
   "execution_count": 3,
   "metadata": {},
   "outputs": [
    {
     "name": "stdout",
     "output_type": "stream",
     "text": [
      "Americans play Baseball\n",
      "Americans play Football\n",
      "Americans watch Baseball\n",
      "Americans watch Football\n",
      "Indians play Baseball\n",
      "Indians play Football\n",
      "Indians watch Baseball\n",
      "Indians watch Football\n"
     ]
    }
   ],
   "source": [
    "#implement this\n",
    "subjects=['Americans','Indians']\n",
    "verbs=['play','watch']\n",
    "objects=['Baseball','Football']\n",
    "for i in subjects:\n",
    "    for j in verbs:\n",
    "        for k in objects:\n",
    "            print(i,j,k)"
   ]
  }
 ],
 "metadata": {
  "kernelspec": {
   "display_name": "Python 3",
   "language": "python",
   "name": "python3"
  },
  "language_info": {
   "codemirror_mode": {
    "name": "ipython",
    "version": 3
   },
   "file_extension": ".py",
   "mimetype": "text/x-python",
   "name": "python",
   "nbconvert_exporter": "python",
   "pygments_lexer": "ipython3",
   "version": "3.8.5"
  }
 },
 "nbformat": 4,
 "nbformat_minor": 4
}
